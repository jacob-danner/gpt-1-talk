{
 "cells": [
  {
   "cell_type": "code",
   "execution_count": 1,
   "id": "9952d81e",
   "metadata": {},
   "outputs": [],
   "source": [
    "import torch\n",
    "from torch.nn.functional import softmax\n",
    "from shared import (\n",
    "    gpt,\n",
    "    show_probabilities,\n",
    "    tokenizer,\n",
    ")"
   ]
  },
  {
   "cell_type": "markdown",
   "id": "34ac4627",
   "metadata": {},
   "source": [
    "### P(u)\n",
    "\n",
    "![gpt1math](assets/pumath.png)"
   ]
  },
  {
   "cell_type": "code",
   "execution_count": 2,
   "id": "pii432hllz",
   "metadata": {},
   "outputs": [
    {
     "data": {
      "text/html": [
       "<pre style=\"white-space:pre;overflow-x:auto;line-height:normal;font-family:Menlo,'DejaVu Sans Mono',consolas,'Courier New',monospace\">┏━━━━━━━┳━━━━━━━┳━━━━━━━━━━━━━┓\n",
       "┃ Token ┃ Logit ┃ Probability ┃\n",
       "┣━━━━━━━╋━━━━━━━╋━━━━━━━━━━━━━┫\n",
       "┃ 'a'   ┃  2.50 ┃      0.3292 ┃\n",
       "┃ 'b'   ┃  1.00 ┃      0.0735 ┃\n",
       "┃ 'c'   ┃  0.50 ┃      0.0446 ┃\n",
       "┃ 'd'   ┃ -1.00 ┃      0.0099 ┃\n",
       "┃ 'e'   ┃  3.00 ┃      0.5428 ┃\n",
       "┗━━━━━━━┻━━━━━━━┻━━━━━━━━━━━━━┛\n",
       "</pre>\n"
      ],
      "text/plain": [
       "┏━━━━━━━┳━━━━━━━┳━━━━━━━━━━━━━┓\n",
       "┃ Token ┃ Logit ┃ Probability ┃\n",
       "┣━━━━━━━╋━━━━━━━╋━━━━━━━━━━━━━┫\n",
       "┃ 'a'   ┃  2.50 ┃      0.3292 ┃\n",
       "┃ 'b'   ┃  1.00 ┃      0.0735 ┃\n",
       "┃ 'c'   ┃  0.50 ┃      0.0446 ┃\n",
       "┃ 'd'   ┃ -1.00 ┃      0.0099 ┃\n",
       "┃ 'e'   ┃  3.00 ┃      0.5428 ┃\n",
       "┗━━━━━━━┻━━━━━━━┻━━━━━━━━━━━━━┛\n"
      ]
     },
     "metadata": {},
     "output_type": "display_data"
    }
   ],
   "source": [
    "vocab = ['a', 'b', 'c', 'd', 'e']\n",
    "logits = torch.tensor([2.5, 1.0, 0.5, -1.0, 3.0])\n",
    "probabilities = softmax(logits, dim=0)\n",
    "\n",
    "show_probabilities(logits, probabilities, vocab)"
   ]
  },
  {
   "cell_type": "code",
   "execution_count": 3,
   "id": "60afd9d5",
   "metadata": {},
   "outputs": [
    {
     "data": {
      "text/html": [
       "<pre style=\"white-space:pre;overflow-x:auto;line-height:normal;font-family:Menlo,'DejaVu Sans Mono',consolas,'Courier New',monospace\">┏━━━━━━━━━━━━━┳━━━━━━━┳━━━━━━━━━━━━━┓\n",
       "┃    Token    ┃ Logit ┃ Probability ┃\n",
       "┣━━━━━━━━━━━━━╋━━━━━━━╋━━━━━━━━━━━━━┫\n",
       "┃ 'east'      ┃  7.68 ┃      0.2897 ┃\n",
       "┃ 'morning'   ┃  7.43 ┃      0.2243 ┃\n",
       "┃ 'west'      ┃  7.22 ┃      0.1814 ┃\n",
       "┃ 'sky'       ┃  6.64 ┃      0.1018 ┃\n",
       "┃ 'north'     ┃  4.59 ┃      0.0132 ┃\n",
       "┃ 'south'     ┃  4.26 ┃      0.0095 ┃\n",
       "┃ 'middle'    ┃  4.23 ┃      0.0092 ┃\n",
       "┃ 'afternoon' ┃  4.15 ┃      0.0084 ┃\n",
       "┃ 'distance'  ┃  3.99 ┃      0.0072 ┃\n",
       "┃ 'early'     ┃  3.98 ┃      0.0071 ┃\n",
       "┗━━━━━━━━━━━━━┻━━━━━━━┻━━━━━━━━━━━━━┛\n",
       "</pre>\n"
      ],
      "text/plain": [
       "┏━━━━━━━━━━━━━┳━━━━━━━┳━━━━━━━━━━━━━┓\n",
       "┃    Token    ┃ Logit ┃ Probability ┃\n",
       "┣━━━━━━━━━━━━━╋━━━━━━━╋━━━━━━━━━━━━━┫\n",
       "┃ 'east'      ┃  7.68 ┃      0.2897 ┃\n",
       "┃ 'morning'   ┃  7.43 ┃      0.2243 ┃\n",
       "┃ 'west'      ┃  7.22 ┃      0.1814 ┃\n",
       "┃ 'sky'       ┃  6.64 ┃      0.1018 ┃\n",
       "┃ 'north'     ┃  4.59 ┃      0.0132 ┃\n",
       "┃ 'south'     ┃  4.26 ┃      0.0095 ┃\n",
       "┃ 'middle'    ┃  4.23 ┃      0.0092 ┃\n",
       "┃ 'afternoon' ┃  4.15 ┃      0.0084 ┃\n",
       "┃ 'distance'  ┃  3.99 ┃      0.0072 ┃\n",
       "┃ 'early'     ┃  3.98 ┃      0.0071 ┃\n",
       "┗━━━━━━━━━━━━━┻━━━━━━━┻━━━━━━━━━━━━━┛\n"
      ]
     },
     "metadata": {},
     "output_type": "display_data"
    }
   ],
   "source": [
    "text = 'The sun rises in the'\n",
    "inputs = tokenizer(text, return_tensors='pt')\n",
    "\n",
    "with torch.no_grad():\n",
    "    outputs = gpt(**inputs)\n",
    "\n",
    "last_token_logits = outputs.logits[0, -1, :]\n",
    "\n",
    "probabilities = softmax(last_token_logits, dim=0)\n",
    "\n",
    "# get top 10 most likely next tokens\n",
    "top_probs, top_indices = probabilities.topk(10)\n",
    "top_logits = last_token_logits[top_indices]\n",
    "top_tokens = [tokenizer.decode([idx]) for idx in top_indices]\n",
    "\n",
    "show_probabilities(top_logits, top_probs, top_tokens)"
   ]
  },
  {
   "cell_type": "markdown",
   "id": "8dbf56f2",
   "metadata": {},
   "source": [
    "#### Sampling\n",
    "\n",
    "Once we have probabilities, how do we actually pick the next word?\n",
    "\n",
    "- **Greedy sampling**: Always pick the highest probability word (deterministic)\n",
    "- **Top-k**: Sample from the k most likely tokens when sampling\n",
    "- **Top-p (nucleus)**: Sample from smallest set of tokens whose cumulative probability >= p\n",
    "- **Beam search**: Heuristic search algorithm that explores multiple possible sequences simultaneously by keeping the top-k most promising partial sequences (called \"beams\") at each step, where k is the beam width\n",
    "- **Structured Generation**: Only consider certain parts of the vocabulary as valid\n",
    "- **Temperature**: Scale logits before softmax to control randomness (higher = more creative)\n",
    "\n",
    "Different sampling strategies produce different text styles."
   ]
  },
  {
   "cell_type": "code",
   "execution_count": 4,
   "id": "p9axcoe7mle",
   "metadata": {},
   "outputs": [
    {
     "name": "stdout",
     "output_type": "stream",
     "text": [
      "thanks for coming out tonight ! \" i said . \" i have a ton of stuff to do .\n"
     ]
    }
   ],
   "source": [
    "text = 'thanks for coming out tonight!'\n",
    "inputs = tokenizer(text, return_tensors='pt')\n",
    "generated = gpt.generate(inputs.input_ids, max_length=20, do_sample=True, temperature=0.7)\n",
    "print(tokenizer.decode(generated[0], skip_special_tokens=True))"
   ]
  }
 ],
 "metadata": {
  "kernelspec": {
   "display_name": "gpt-1-talk",
   "language": "python",
   "name": "python3"
  },
  "language_info": {
   "codemirror_mode": {
    "name": "ipython",
    "version": 3
   },
   "file_extension": ".py",
   "mimetype": "text/x-python",
   "name": "python",
   "nbconvert_exporter": "python",
   "pygments_lexer": "ipython3",
   "version": "3.12.8"
  }
 },
 "nbformat": 4,
 "nbformat_minor": 5
}
