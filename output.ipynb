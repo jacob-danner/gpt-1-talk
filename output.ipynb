{
 "cells": [
  {
   "cell_type": "code",
   "execution_count": null,
   "id": "9952d81e",
   "metadata": {},
   "outputs": [],
   "source": [
    "import torch\n",
    "from torch.nn.functional import softmax\n",
    "from shared import gpt, tokenizer, show_probabilities"
   ]
  },
  {
   "cell_type": "markdown",
   "id": "34ac4627",
   "metadata": {},
   "source": [
    "### P(u)\n",
    "\n",
    "![gpt1math](assets/pumath.png)"
   ]
  },
  {
   "cell_type": "code",
   "execution_count": null,
   "id": "pii432hllz",
   "metadata": {},
   "outputs": [],
   "source": [
    "vocab = ['a', 'b', 'c', 'd', 'e']\n",
    "logits = torch.tensor([2.5, 1.0, 0.5, -1.0, 3.0])\n",
    "probabilities = softmax(logits, dim=0)\n",
    "\n",
    "show_probabilities(logits, probabilities, vocab)"
   ]
  },
  {
   "cell_type": "code",
   "execution_count": null,
   "id": "60afd9d5",
   "metadata": {},
   "outputs": [],
   "source": [
    "text = 'The sun rises in the'\n",
    "inputs = tokenizer(text, return_tensors='pt')\n",
    "\n",
    "with torch.no_grad():\n",
    "    outputs = gpt(**inputs)\n",
    "\n",
    "last_token_logits = outputs.logits[0, -1, :]\n",
    "\n",
    "probabilities = softmax(last_token_logits, dim=0)\n",
    "\n",
    "# get top 10 most likely next tokens\n",
    "top_probs, top_indices = probabilities.topk(10)\n",
    "top_logits = last_token_logits[top_indices]\n",
    "top_tokens = [tokenizer.decode([idx]) for idx in top_indices]\n",
    "\n",
    "show_probabilities(top_logits, top_probs, top_tokens)"
   ]
  },
  {
   "cell_type": "markdown",
   "id": "8dbf56f2",
   "metadata": {},
   "source": [
    "#### Sampling\n",
    "\n",
    "Once we have probabilities, how do we actually pick the next word?\n",
    "\n",
    "- **Greedy sampling**: Always pick the highest probability word (deterministic)\n",
    "- **Top-k**: Sample from the k most likely tokens when sampling\n",
    "- **Top-p (nucleus)**: Sample from smallest set of tokens whose cumulative probability >= p\n",
    "- **Structured Generation**: Only consider certain parts of the vocabulary as valid\n",
    "- **Temperature**: Scale logits before softmax to control randomness (higher = more creative)\n",
    "- **Beam search**: Heuristic search algorithm that explores multiple possible sequences simultaneously by keeping the top-k most promising partial sequences (called \"beams\") at each step, where k is the beam width\n",
    "\n",
    "Different sampling strategies produce different text styles."
   ]
  }
 ],
 "metadata": {
  "kernelspec": {
   "display_name": "dissecting-gpt",
   "language": "python",
   "name": "python3"
  },
  "language_info": {
   "codemirror_mode": {
    "name": "ipython",
    "version": 3
   },
   "file_extension": ".py",
   "mimetype": "text/x-python",
   "name": "python",
   "nbconvert_exporter": "python",
   "pygments_lexer": "ipython3",
   "version": "3.12.8"
  }
 },
 "nbformat": 4,
 "nbformat_minor": 5
}
